{
 "cells": [
  {
   "cell_type": "markdown",
   "metadata": {},
   "source": [
    "# TP : Plus courts chemins et programmation dynamique\n",
    "\n",
    "Le projet Euler est un site qui regroupe des problèmes de math/info. Commencez par vous inscrire sur https://projecteuler.net/register"
   ]
  },
  {
   "cell_type": "markdown",
   "metadata": {},
   "source": [
    "## Projet Euler : Problème 81"
   ]
  },
  {
   "cell_type": "markdown",
   "metadata": {
    "tags": []
   },
   "source": [
    "Résoudre le [problème 81](https://projecteuler.net/index.php?section=problems&id=81). Pour plus de simplicité, voici une fonction pour charger la matrice :"
   ]
  },
  {
   "cell_type": "code",
   "execution_count": 1,
   "metadata": {
    "execution": {
     "iopub.execute_input": "2022-03-22T17:03:24.087172Z",
     "iopub.status.busy": "2022-03-22T17:03:24.086742Z",
     "iopub.status.idle": "2022-03-22T17:03:24.098667Z",
     "shell.execute_reply": "2022-03-22T17:03:24.098221Z"
    }
   },
   "outputs": [
    {
     "data": {
      "text/plain": [
       "val load_file : string -> int array array = <fun>\n"
      ]
     },
     "execution_count": 1,
     "metadata": {},
     "output_type": "execute_result"
    }
   ],
   "source": [
    "let load_file file = \n",
    "  let f = open_in file in\n",
    "    let rec read () =\n",
    "      try (\n",
    "        let l = input_line f \n",
    "        |> String.split_on_char ',' \n",
    "        |> Array.of_list\n",
    "        |> Array.map int_of_string in\n",
    "        l::read ()\n",
    "      )\n",
    "    with End_of_file -> [] in\n",
    "    read () |> Array.of_list;;"
   ]
  },
  {
   "cell_type": "markdown",
   "metadata": {},
   "source": [
    "## Projet Euler : Problème 83\n",
    "\n",
    "Résoudre de [problème 83](https://projecteuler.net/problem=83). Vous pouvez utiliser la même matrice que précédemment."
   ]
  },
  {
   "cell_type": "markdown",
   "metadata": {},
   "source": [
    "## Google Hash Code : Art optimal\n",
    "\n",
    "Donner une solution pour [https://primers.xyz/0](https://primers.xyz/0), en coloriant de façon répétée le plus grand carré de 1 jusqu'à ce que toute l'image soit dessinée. Utiliser pour cela l'algorithme de programmation dynamique vu en TD."
   ]
  }
 ],
 "metadata": {
  "kernelspec": {
   "display_name": "OCaml default",
   "language": "OCaml",
   "name": "ocaml-jupyter"
  },
  "language_info": {
   "codemirror_mode": "text/x-ocaml",
   "file_extension": ".ml",
   "mimetype": "text/x-ocaml",
   "name": "OCaml",
   "nbconverter_exporter": null,
   "pygments_lexer": "OCaml",
   "version": "4.08.1"
  }
 },
 "nbformat": 4,
 "nbformat_minor": 4
}
