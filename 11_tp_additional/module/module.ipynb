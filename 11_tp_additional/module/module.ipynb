{
 "cells": [
  {
   "cell_type": "markdown",
   "metadata": {},
   "source": [
    "# Introduction aux modules OCaml\n",
    "\n",
    "Ce TP est une introduction à l'utilisation de [**modules**](https://ocaml.org/docs/modules) en OCaml. Un module est une façon de regrouper plusieurs fonctions (et types) similaires).  \n",
    "C'est hors-programme mais cela peut quand même être intéressant pour mieux architecturer le code de votre TIPE ou pour mieux comprendre la libraire standard OCaml (qui utilise des modules). Par exemple, `List` est un module :  "
   ]
  },
  {
   "cell_type": "code",
   "execution_count": 36,
   "metadata": {},
   "outputs": [
    {
     "name": "stdout",
     "output_type": "stream",
     "text": [
      "module List = List\n",
      "module List :\n",
      "  sig\n",
      "    type 'a t = 'a list = [] | (::) of 'a * 'a list\n",
      "    val length : 'a list -> int\n",
      "    val compare_lengths : 'a list -> 'b list -> int\n",
      "    val compare_length_with : 'a list -> int -> int\n",
      "    val cons : 'a -> 'a list -> 'a list\n",
      "    val hd : 'a list -> 'a\n",
      "    val tl : 'a list -> 'a list\n",
      "    val nth : 'a list -> int -> 'a\n",
      "    val nth_opt : 'a list -> int -> 'a option\n",
      "    val rev : 'a list -> 'a list\n",
      "    val init : int -> (int -> 'a) -> 'a list\n",
      "    val append : 'a list -> 'a list -> 'a list\n",
      "    val rev_append : 'a list -> 'a list -> 'a list\n",
      "    val concat : 'a list list -> 'a list\n",
      "    val flatten : 'a list list -> 'a list\n",
      "    val iter : ('a -> unit) -> 'a list -> unit\n",
      "    val iteri : (int -> 'a -> unit) -> 'a list -> unit\n",
      "    val map : ('a -> 'b) -> 'a list -> 'b list\n",
      "    val mapi : (int -> 'a -> 'b) -> 'a list -> 'b list\n",
      "    val rev_map : ('a -> 'b) -> 'a list -> 'b list\n",
      "    val filter_map : ('a -> 'b option) -> 'a list -> 'b list\n",
      "    val fold_left : ('a -> 'b -> 'a) -> 'a -> 'b list -> 'a\n",
      "    val fold_right : ('a -> 'b -> 'b) -> 'a list -> 'b -> 'b\n",
      "    val iter2 : ('a -> 'b -> unit) -> 'a list -> 'b list -> unit\n",
      "    val map2 : ('a -> 'b -> 'c) -> 'a list -> 'b list -> 'c list\n",
      "    val rev_map2 : ('a -> 'b -> 'c) -> 'a list -> 'b list -> 'c list\n",
      "    val fold_left2 : ('a -> 'b -> 'c -> 'a) -> 'a -> 'b list -> 'c list -> 'a\n",
      "    val fold_right2 :\n",
      "      ('a -> 'b -> 'c -> 'c) -> 'a list -> 'b list -> 'c -> 'c\n",
      "    val for_all : ('a -> bool) -> 'a list -> bool\n",
      "    val exists : ('a -> bool) -> 'a list -> bool\n",
      "    val for_all2 : ('a -> 'b -> bool) -> 'a list -> 'b list -> bool\n",
      "    val exists2 : ('a -> 'b -> bool) -> 'a list -> 'b list -> bool\n",
      "    val mem : 'a -> 'a list -> bool\n",
      "    val memq : 'a -> 'a list -> bool\n",
      "    val find : ('a -> bool) -> 'a list -> 'a\n",
      "    val find_opt : ('a -> bool) -> 'a list -> 'a option\n",
      "    val filter : ('a -> bool) -> 'a list -> 'a list\n",
      "    val find_all : ('a -> bool) -> 'a list -> 'a list\n",
      "    val partition : ('a -> bool) -> 'a list -> 'a list * 'a list\n",
      "    val assoc : 'a -> ('a * 'b) list -> 'b\n",
      "    val assoc_opt : 'a -> ('a * 'b) list -> 'b option\n",
      "    val assq : 'a -> ('a * 'b) list -> 'b\n",
      "    val assq_opt : 'a -> ('a * 'b) list -> 'b option\n",
      "    val mem_assoc : 'a -> ('a * 'b) list -> bool\n",
      "    val mem_assq : 'a -> ('a * 'b) list -> bool\n",
      "    val remove_assoc : 'a -> ('a * 'b) list -> ('a * 'b) list\n",
      "    val remove_assq : 'a -> ('a * 'b) list -> ('a * 'b) list\n",
      "    val split : ('a * 'b) list -> 'a list * 'b list\n",
      "    val combine : 'a list -> 'b list -> ('a * 'b) list\n",
      "    val sort : ('a -> 'a -> int) -> 'a list -> 'a list\n",
      "    val stable_sort : ('a -> 'a -> int) -> 'a list -> 'a list\n",
      "    val fast_sort : ('a -> 'a -> int) -> 'a list -> 'a list\n",
      "    val sort_uniq : ('a -> 'a -> int) -> 'a list -> 'a list\n",
      "    val merge : ('a -> 'a -> int) -> 'a list -> 'a list -> 'a list\n",
      "    val to_seq : 'a list -> 'a Seq.t\n",
      "    val of_seq : 'a Seq.t -> 'a list\n",
      "  end\n"
     ]
    }
   ],
   "source": [
    "#show List"
   ]
  },
  {
   "cell_type": "markdown",
   "metadata": {},
   "source": [
    "**Remarque** : C'est similaire à la notion de classe dans d'autres langages de programmation (et qui existe aussi en OCaml), sauf qu'il n'est pas possible d'instancier un module."
   ]
  },
  {
   "cell_type": "markdown",
   "metadata": {},
   "source": [
    "## Définition de module"
   ]
  },
  {
   "cell_type": "code",
   "execution_count": 37,
   "metadata": {},
   "outputs": [
    {
     "data": {
      "text/plain": [
       "module Polynom :\n",
       "  sig val deg : 'a list -> int val add : int list -> int list -> int list end\n"
      ]
     },
     "execution_count": 37,
     "metadata": {},
     "output_type": "execute_result"
    }
   ],
   "source": [
    "module Polynom = struct\n",
    "    let deg p =\n",
    "        1 + List.length p\n",
    "    let rec add p1 p2 = match p1, p2 with\n",
    "        | [], _ -> p2\n",
    "        | _, [] -> p1\n",
    "        | c1::q1, c2::q2 -> (c1 + c2)::add q1 q2\n",
    "end"
   ]
  },
  {
   "cell_type": "code",
   "execution_count": 38,
   "metadata": {},
   "outputs": [
    {
     "data": {
      "text/plain": [
       "- : int list = [1; 2; 4; 2]\n"
      ]
     },
     "execution_count": 38,
     "metadata": {},
     "output_type": "execute_result"
    }
   ],
   "source": [
    "Polynom.add [1; 2; 3] [0; 0; 1; 2]"
   ]
  },
  {
   "cell_type": "markdown",
   "metadata": {
    "tags": [
     "exo"
    ]
   },
   "source": [
    "**Exercice** : Ajouter une fonction `mult` à `Polynom` pour multiplier deux polynômes.  \n",
    "**Remarque** : On demande de le faire en O($n^2$) où $n$ est le plus grand degré, mais il existe des méthodes plus rapides comme [Karastuba](https://fr.wikipedia.org/wiki/Algorithme_de_Karatsuba) ou [FFT](https://fr.wikipedia.org/wiki/Transformation_de_Fourier_rapide))."
   ]
  },
  {
   "cell_type": "markdown",
   "metadata": {},
   "source": [
    "## Signature de module\n",
    "\n",
    "De la même façon que l'on peut définir le type d'une fonction, on peut définir le **type d'un module**. Voici par exemple un type de module pour définir un anneau :"
   ]
  },
  {
   "cell_type": "code",
   "execution_count": 43,
   "metadata": {},
   "outputs": [
    {
     "data": {
      "text/plain": [
       "module type Anneau =\n",
       "  sig\n",
       "    type t\n",
       "    val neutre_somme : t\n",
       "    val neutre_mult : t\n",
       "    val somme : t -> t -> t\n",
       "    val mult : t -> t -> t\n",
       "    val somme_inv : t -> t\n",
       "    val print : t -> unit\n",
       "  end\n"
      ]
     },
     "execution_count": 43,
     "metadata": {},
     "output_type": "execute_result"
    }
   ],
   "source": [
    "module type Anneau = sig\n",
    "    type t (* type des éléments du groupe *)\n",
    "    val neutre_somme : t\n",
    "    val neutre_mult : t\n",
    "    val somme : t -> t -> t\n",
    "    val mult : t -> t -> t\n",
    "    val somme_inv : t -> t (* inverse additif *)\n",
    "    val print : t -> unit (* pour afficher une valeur *)\n",
    "end"
   ]
  },
  {
   "cell_type": "markdown",
   "metadata": {},
   "source": [
    "Par exemple, voici la définition de $\\mathbb{Z}/n\\mathbb{Z}$ sous forme d'un module de type `Anneau` :"
   ]
  },
  {
   "cell_type": "code",
   "execution_count": 61,
   "metadata": {},
   "outputs": [
    {
     "data": {
      "text/plain": [
       "module Z5Z : Anneau\n"
      ]
     },
     "execution_count": 61,
     "metadata": {},
     "output_type": "execute_result"
    }
   ],
   "source": [
    "module Z5Z : Anneau = struct\n",
    "    type t = int\n",
    "    let neutre_somme = 0\n",
    "    let neutre_mult = 1\n",
    "    let somme n p = (n + p) mod 5\n",
    "    let mult n p = (n*p) mod 5\n",
    "    let somme_inv n = (-n) mod 5\n",
    "    let print n = Format.printf \"%d@.\" n\n",
    "end"
   ]
  },
  {
   "cell_type": "code",
   "execution_count": 62,
   "metadata": {},
   "outputs": [
    {
     "name": "stdout",
     "output_type": "stream",
     "text": [
      "4\n"
     ]
    },
    {
     "data": {
      "text/plain": [
       "- : unit = ()\n"
      ]
     },
     "execution_count": 62,
     "metadata": {},
     "output_type": "execute_result"
    }
   ],
   "source": [
    "let e = Z5Z.neutre_mult in\n",
    "let e2 = Z5Z.somme e e in\n",
    "Z5Z.print (Z5Z.mult e2 e2)"
   ]
  },
  {
   "cell_type": "markdown",
   "metadata": {
    "tags": [
     "exo"
    ]
   },
   "source": [
    "**Exercice** : Définir un module de type `Anneau` représentant le corps (donc aussi un anneau) $\\mathbb{C}$ des nombres complexes."
   ]
  },
  {
   "cell_type": "markdown",
   "metadata": {},
   "source": [
    "## Foncteur\n",
    "\n",
    "Cette partie est un complément qui peut être passé en première lecture.  \n",
    "Il est possible de définir des **modules paramétrés (foncteur)**, c'est-à-dire pouvoir définir automatiquement un nouveau module en faisant varier un paramètre. Par exemple, on pourrait définir un foncteur pour obtenir $\\mathbb{Z}/n\\mathbb{Z}$, pour $n$ quelconque :"
   ]
  },
  {
   "cell_type": "code",
   "execution_count": 73,
   "metadata": {},
   "outputs": [
    {
     "data": {
      "text/plain": [
       "module type Integer = sig val n : int end\n"
      ]
     },
     "execution_count": 73,
     "metadata": {},
     "output_type": "execute_result"
    },
    {
     "data": {
      "text/plain": [
       "module ZnZ : functor (N : Integer) -> Anneau\n"
      ]
     },
     "execution_count": 73,
     "metadata": {},
     "output_type": "execute_result"
    }
   ],
   "source": [
    "module type Integer = sig val n : int end (* type de module utilisé en paramètre de ZnZ *)\n",
    "\n",
    "module ZnZ (N : Integer) : Anneau = struct\n",
    "    type t = int\n",
    "    let neutre_somme = 0\n",
    "    let neutre_mult = 1\n",
    "    let somme p q = (p + q) mod N.n\n",
    "    let mult p q = (p*q) mod N.n\n",
    "    let somme_inv p = (p) mod N.n\n",
    "    let print n = Format.printf \"%d@.\" n\n",
    "end"
   ]
  },
  {
   "cell_type": "markdown",
   "metadata": {},
   "source": [
    "On peut alors définir $\\mathbb{Z}/2\\mathbb{Z}$ simplement, par exemple :"
   ]
  },
  {
   "cell_type": "code",
   "execution_count": 75,
   "metadata": {},
   "outputs": [
    {
     "data": {
      "text/plain": [
       "module Z2Z : Anneau\n"
      ]
     },
     "execution_count": 75,
     "metadata": {},
     "output_type": "execute_result"
    },
    {
     "name": "stdout",
     "output_type": "stream",
     "text": [
      "0\n"
     ]
    },
    {
     "data": {
      "text/plain": [
       "- : unit = ()\n"
      ]
     },
     "execution_count": 75,
     "metadata": {},
     "output_type": "execute_result"
    }
   ],
   "source": [
    "module Z2Z = ZnZ (struct let n = 2 end);;\n",
    "\n",
    "let e = Z2Z.neutre_mult in\n",
    "Z2Z.print (Z2Z.somme e e)"
   ]
  },
  {
   "cell_type": "markdown",
   "metadata": {},
   "source": [
    "## File de priorité par arbre binaire de recherche\n",
    "\n",
    "On définit le type suivant de module de file de priorité persistante :"
   ]
  },
  {
   "cell_type": "code",
   "execution_count": 60,
   "metadata": {},
   "outputs": [
    {
     "data": {
      "text/plain": [
       "module type PrioQ =\n",
       "  sig\n",
       "    type 'a t\n",
       "    val empty : 'a t\n",
       "    val is_empty : 'a t -> bool\n",
       "    val add : 'a -> 'a t -> 'a t\n",
       "    val peek_min : 'a t -> 'a\n",
       "    val take_min : 'a t -> 'a t\n",
       "  end\n"
      ]
     },
     "execution_count": 60,
     "metadata": {},
     "output_type": "execute_result"
    }
   ],
   "source": [
    "module type PrioQ = sig\n",
    "  type 'a t (* structure contenant les éléments de la file de priorité *)\n",
    "  val empty : 'a t (* file de priorité vide *)\n",
    "  val is_empty : 'a t -> bool (* teste si une file de priorité est vide *)\n",
    "  val add : 'a -> 'a t -> 'a t (* ajoute un élément à la file de priorité *)\n",
    "  val peek_min : 'a t -> 'a (* renvoie le minimum de la file de priorité *)\n",
    "  val take_min : 'a t -> 'a t (* extrait le minimum de la file de priorité *)\n",
    "end"
   ]
  },
  {
   "cell_type": "markdown",
   "metadata": {},
   "source": [
    "Comme il s'agit d'une file de priorité persistante, `take_min` et `add` renvoient une nouvelle version de la file de priorité."
   ]
  },
  {
   "cell_type": "markdown",
   "metadata": {
    "tags": [
     "exo"
    ]
   },
   "source": [
    "**Exercice** : Compléter le module suivant implément une file de priorité par arbre binaire de recherche."
   ]
  },
  {
   "cell_type": "code",
   "execution_count": 77,
   "metadata": {},
   "outputs": [
    {
     "ename": "error",
     "evalue": "compile_error",
     "output_type": "error",
     "traceback": [
      "File \"[77]\", line 1, characters 21-165:\n1 | .....................struct\n2 |   type 'a t = E | N of 'a * 'a t * 'a t (* type d'arbre binaire *)\n3 |   let empty = E\n4 |   (* définir is_empty, add, peek_min, take_min *)\n5 | end\nError: Signature mismatch:\n       Modules do not match:\n         sig type 'a t = E | N of 'a * 'a t * 'a t val empty : 'a t end\n       is not included in\n         PrioQ\n       The value `take_min' is required but not provided\n       File \"[60]\", line 7, characters 2-29: Expected declaration\n       The value `peek_min' is required but not provided\n       File \"[60]\", line 6, characters 2-27: Expected declaration\n       The value `add' is required but not provided\n       File \"[60]\", line 5, characters 2-30: Expected declaration\n       The value `is_empty' is required but not provided\n       File \"[60]\", line 4, characters 2-29: Expected declaration\n"
     ]
    }
   ],
   "source": [
    "module Bst : PrioQ = struct\n",
    "  type 'a t = E | N of 'a * 'a t * 'a t (* type d'arbre binaire *)\n",
    "  let empty = E\n",
    "  (* définir is_empty, add, peek_min, take_min *)\n",
    "end"
   ]
  },
  {
   "cell_type": "markdown",
   "metadata": {},
   "source": [
    "## Algorithme de Dijkstra"
   ]
  },
  {
   "cell_type": "markdown",
   "metadata": {
    "tags": [
     "exo"
    ]
   },
   "source": [
    "**Exercice** : Écrire une fonction implémentant l'algorithme de Dijkstra en utilisant un `Bst` comme file de priorité. On pourra adapter le code du cours sur l'algorithme de Dijkstra. Tester votre fonction."
   ]
  },
  {
   "cell_type": "markdown",
   "metadata": {},
   "source": [
    "## Prolongements"
   ]
  },
  {
   "cell_type": "markdown",
   "metadata": {
    "tags": [
     "exo"
    ]
   },
   "source": [
    "**Exercice** : Réécrire l'algorithme de Dijkstra sous forme d'un foncteur, de façon à être utilisable avec n'importe quelle `PrioQ`. Tester. On pourra compléter le code suivant :"
   ]
  },
  {
   "cell_type": "code",
   "execution_count": 80,
   "metadata": {},
   "outputs": [
    {
     "ename": "error",
     "evalue": "compile_error",
     "output_type": "error",
     "traceback": [
      "File \"[80]\", line 4, characters 0-3:\n4 | end\n    ^^^\nError: Syntax error: 'end' expected\nFile \"[80]\", line 1, characters 30-36:\n1 | module Dijkstra (Q : PrioQ) = struct\n                                  ^^^^^^\n  This 'struct' might be unmatched\n"
     ]
    }
   ],
   "source": [
    "module Dijkstra (Q : PrioQ) = struct\n",
    "    let distances g r = (* renvoie un tableau des distances de r aux sommets de g *)\n",
    "        (* compléter *)\n",
    "end"
   ]
  },
  {
   "cell_type": "markdown",
   "metadata": {
    "tags": [
     "exo"
    ]
   },
   "source": [
    "**Exercice** : Implémenter un module de file de priorité par tas. Vérifier que `Dijkstra` fonctionne avec ce nouveau `PrioQ`, avec des modifications minimes."
   ]
  }
 ],
 "metadata": {
  "celltoolbar": "Tags",
  "kernelspec": {
   "display_name": "OCaml default",
   "language": "OCaml",
   "name": "ocaml-jupyter"
  },
  "language_info": {
   "codemirror_mode": "text/x-ocaml",
   "file_extension": ".ml",
   "mimetype": "text/x-ocaml",
   "name": "OCaml",
   "nbconverter_exporter": null,
   "pygments_lexer": "OCaml",
   "version": "4.08.1"
  }
 },
 "nbformat": 4,
 "nbformat_minor": 2
}
