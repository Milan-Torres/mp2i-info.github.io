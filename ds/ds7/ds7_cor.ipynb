{
 "cells": [
  {
   "cell_type": "markdown",
   "metadata": {},
   "source": [
    "# <center><a href='https://notebook.basthon.fr/?from=https://raw.githubusercontent.com/mp2i-fsm/mp2i-2021/main/ds/ds7/ds7_cor.ipynb'>DS 7 corrigé : Transformée de Burrows-Wheeler et compression bzip <img src=https://framagit.org/uploads/-/system/project/avatar/55763/basthon_shadow.png width=100></a></center>\n",
    "\n",
    "## Partie I. Compression par redondance"
   ]
  },
  {
   "cell_type": "code",
   "execution_count": 1,
   "metadata": {
    "execution": {
     "iopub.execute_input": "2022-05-09T09:04:28.735656Z",
     "iopub.status.busy": "2022-05-09T09:04:28.735121Z",
     "iopub.status.idle": "2022-05-09T09:04:28.736167Z",
     "shell.execute_reply": "2022-05-09T09:04:28.736645Z"
    },
    "vscode": {
     "languageId": "ocaml"
    }
   },
   "outputs": [],
   "source": [
    "void print_array(int* t, int n) { // pour vérification\n",
    "    for(int i = 0; i < n; i++)\n",
    "        printf(\"%d \", t[i]);\n",
    "}\n",
    "\n",
    "int t[] = {0, 0, 3, 2, 3, 3, 3, 3, 3, 3, 5};\n",
    "int n = 11;"
   ]
  },
  {
   "cell_type": "code",
   "execution_count": 2,
   "metadata": {
    "execution": {
     "iopub.execute_input": "2022-05-09T09:04:28.738041Z",
     "iopub.status.busy": "2022-05-09T09:04:28.737632Z",
     "iopub.status.idle": "2022-05-09T09:04:28.743720Z",
     "shell.execute_reply": "2022-05-09T09:04:28.741487Z"
    },
    "vscode": {
     "languageId": "ocaml"
    }
   },
   "outputs": [
    {
     "name": "stdout",
     "output_type": "stream",
     "text": [
      "2 0 1 7 0 1 0 0 0 0 0 0 0 0 0 0 0 0 0 0 0 0 0 0 0 0 0 0 0 0 0 0 0 0 0 0 0 0 0 0 0 0 0 0 0 0 0 0 0 0 0 0 0 0 0 0 0 0 0 0 0 0 0 0 0 0 0 0 0 0 0 0 0 0 0 0 0 0 0 0 0 0 0 0 0 0 0 0 0 0 0 0 0 0 0 0 0 0 0 0 0 0 0 0 0 0 0 0 0 0 0 0 0 0 0 0 0 0 0 0 0 0 0 0 0 0 0 0 0 0 0 0 0 0 0 0 0 0 0 0 0 0 0 0 0 0 0 0 0 0 0 0 0 0 0 0 0 0 0 0 0 0 0 0 0 0 0 0 0 0 0 0 0 0 0 0 0 0 0 0 0 0 0 0 0 0 0 0 0 0 0 0 0 0 0 0 0 0 0 0 0 0 0 0 0 0 0 0 0 0 0 0 0 0 0 0 0 0 0 0 0 0 0 0 0 0 0 0 0 0 0 0 0 0 0 0 0 0 0 0 0 0 0 0 0 0 0 0 0 0 0 0 0 0 0 0 "
     ]
    }
   ],
   "source": [
    "// Q1. (/1.5)\n",
    "int* occurrences(int* t, int n) {\n",
    "    int* r = (int*)malloc(256*sizeof(int));\n",
    "    for(int i = 0; i < 256; i++)\n",
    "        r[i] = 0;\n",
    "    for(int i = 0; i < n; i++)\n",
    "        r[t[i]]++;\n",
    "    return r;\n",
    "}\n",
    "\n",
    "print_array(occurrences(t, n), 256)"
   ]
  },
  {
   "cell_type": "code",
   "execution_count": 3,
   "metadata": {
    "execution": {
     "iopub.execute_input": "2022-05-09T09:04:28.745225Z",
     "iopub.status.busy": "2022-05-09T09:04:28.744795Z",
     "iopub.status.idle": "2022-05-09T09:04:29.233131Z",
     "shell.execute_reply": "2022-05-09T09:04:29.231565Z"
    },
    "vscode": {
     "languageId": "ocaml"
    }
   },
   "outputs": [
    {
     "data": {
      "text/plain": [
       "1"
      ]
     },
     "execution_count": 3,
     "metadata": {},
     "output_type": "execute_result"
    }
   ],
   "source": [
    "// Q2. (/1.5)\n",
    "int min(int* t, int n) {\n",
    "    int* r = occurrences(t, n);\n",
    "    int m = 0;\n",
    "    for(int i = 1; i < 256; i++)\n",
    "        if(r[i] < r[m])\n",
    "            m = i;\n",
    "    return m;\n",
    "}\n",
    "\n",
    "min(t, n)"
   ]
  },
  {
   "cell_type": "code",
   "execution_count": 4,
   "metadata": {
    "execution": {
     "iopub.execute_input": "2022-05-09T09:04:29.234976Z",
     "iopub.status.busy": "2022-05-09T09:04:29.234447Z",
     "iopub.status.idle": "2022-05-09T09:04:29.588887Z",
     "shell.execute_reply": "2022-05-09T09:04:29.588457Z"
    },
    "vscode": {
     "languageId": "ocaml"
    }
   },
   "outputs": [
    {
     "data": {
      "text/plain": [
       "10"
      ]
     },
     "execution_count": 4,
     "metadata": {},
     "output_type": "execute_result"
    }
   ],
   "source": [
    "// Q3. (/2)\n",
    "int tailleCodage(int* t, int n) {\n",
    "    int nprime = 1;\n",
    "    for(int i = 0; i < n; i++) {\n",
    "        if(i < n - 1 && t[i] == t[i + 1]) {\n",
    "            while(t[i] == t[i + 1])\n",
    "                i++;\n",
    "            nprime += 3;\n",
    "        } else\n",
    "            nprime++;\n",
    "    }\n",
    "    return nprime;\n",
    "}\n",
    "\n",
    "tailleCodage(t, n)"
   ]
  },
  {
   "cell_type": "code",
   "execution_count": 5,
   "metadata": {
    "execution": {
     "iopub.execute_input": "2022-05-09T09:04:29.591615Z",
     "iopub.status.busy": "2022-05-09T09:04:29.591123Z",
     "iopub.status.idle": "2022-05-09T09:04:29.595573Z",
     "shell.execute_reply": "2022-05-09T09:04:29.594630Z"
    },
    "vscode": {
     "languageId": "ocaml"
    }
   },
   "outputs": [
    {
     "name": "stdout",
     "output_type": "stream",
     "text": [
      "1 1 1 0 3 2 1 5 3 5 "
     ]
    }
   ],
   "source": [
    "// Q4. (/3)\n",
    "int* codage(int* t, int n) {\n",
    "    int mu = min(t, n);\n",
    "    int nprime = tailleCodage(t, n);\n",
    "    int* tprime = (int*)malloc(nprime*sizeof(int));\n",
    "    int k = 1;\n",
    "    tprime[0] = mu;\n",
    "    for(int j = 0; j < n; j++) {\n",
    "        if(j < n - 1 && t[j] == t[j + 1]) {\n",
    "            int i = j;\n",
    "            while(t[j] == t[i])\n",
    "                j++;\n",
    "            j--;\n",
    "            tprime[k++] = mu;\n",
    "            tprime[k++] = j - i;\n",
    "        }\n",
    "        tprime[k++] = t[j];\n",
    "    }\n",
    "    return tprime;\n",
    "}\n",
    "\n",
    "int* tprime = codage(t, n);\n",
    "int nprime = tailleCodage(t, n);\n",
    "print_array(tprime, nprime)"
   ]
  },
  {
   "cell_type": "code",
   "execution_count": 6,
   "metadata": {
    "execution": {
     "iopub.execute_input": "2022-05-09T09:04:29.597210Z",
     "iopub.status.busy": "2022-05-09T09:04:29.596786Z",
     "iopub.status.idle": "2022-05-09T09:04:29.600647Z",
     "shell.execute_reply": "2022-05-09T09:04:29.600257Z"
    },
    "vscode": {
     "languageId": "ocaml"
    }
   },
   "outputs": [
    {
     "name": "stdout",
     "output_type": "stream",
     "text": [
      "0 0 3 2 3 3 3 3 3 3 5 "
     ]
    }
   ],
   "source": [
    "// Q5. (/4)\n",
    "int* decodage(int* tprime, int nprime) {\n",
    "    int mu = tprime[0];\n",
    "    \n",
    "    // calcul de la taille du tableau à créer\n",
    "    int n = 0;\n",
    "    for(int i = 1; i < nprime; i++) {\n",
    "        n++;\n",
    "        if(tprime[i] == mu)\n",
    "            n += tprime[(++i)++];\n",
    "    }\n",
    "    \n",
    "    int* t = (int*)malloc(n*sizeof(int));\n",
    "    \n",
    "    for(int i = 1, k = 0; k < n; i++) {\n",
    "        if(tprime[i] == mu) {\n",
    "            for(int j = 0; j <= tprime[i + 1]; j++)\n",
    "                t[k++] = tprime[i + 2];\n",
    "            i += 2;\n",
    "        }\n",
    "        else\n",
    "            t[k++] = tprime[i];\n",
    "    }\n",
    "    return t;\n",
    "}\n",
    "\n",
    "print_array(decodage(tprime, nprime), n)"
   ]
  },
  {
   "cell_type": "markdown",
   "metadata": {},
   "source": [
    "## Partie II. Transformation de Burrows-Wheeler"
   ]
  },
  {
   "cell_type": "code",
   "execution_count": 7,
   "metadata": {
    "execution": {
     "iopub.execute_input": "2022-05-09T09:04:29.602174Z",
     "iopub.status.busy": "2022-05-09T09:04:29.601756Z",
     "iopub.status.idle": "2022-05-09T09:04:29.642766Z",
     "shell.execute_reply": "2022-05-09T09:04:29.631057Z"
    },
    "vscode": {
     "languageId": "ocaml"
    }
   },
   "outputs": [
    {
     "name": "stderr",
     "output_type": "stream",
     "text": [
      "input_line_17:2:2: error: unknown type name 'let'\n",
      " let occurrences t =\n",
      " ^\n",
      "input_line_17:2:17: error: expected ';' at end of declaration\n",
      " let occurrences t =\n",
      "                ^\n",
      "                ;\n",
      "input_line_17:8:3: error: use of undeclared identifier 'r'\n",
      "  r\n",
      "  ^\n"
     ]
    },
    {
     "ename": "Interpreter Error",
     "evalue": "",
     "output_type": "error",
     "traceback": [
      "Interpreter Error: "
     ]
    }
   ],
   "source": [
    "let occurrences t =\n",
    "  let n = Array.length t in\n",
    "  let r = Array.make 256 0 in\n",
    "  for i = 0 to n - 1 do\n",
    "    r.(Char.code t.(i)) <- r.(Char.code t.(i)) + 1\n",
    "  done;\n",
    "  r"
   ]
  },
  {
   "cell_type": "code",
   "execution_count": 8,
   "metadata": {
    "execution": {
     "iopub.execute_input": "2022-05-09T09:04:29.644350Z",
     "iopub.status.busy": "2022-05-09T09:04:29.643935Z",
     "iopub.status.idle": "2022-05-09T09:04:29.725579Z",
     "shell.execute_reply": "2022-05-09T09:04:29.700583Z"
    },
    "vscode": {
     "languageId": "ocaml"
    }
   },
   "outputs": [
    {
     "name": "stderr",
     "output_type": "stream",
     "text": [
      "input_line_18:2:9: error: expected unqualified-id\n",
      " (* Q6. (/2) *)\n",
      "        ^\n",
      "input_line_18:2:5: error: use of undeclared identifier 'Q6'\n",
      " (* Q6. (/2) *)\n",
      "    ^\n",
      "input_line_18:2:10: error: expected expression\n",
      " (* Q6. (/2) *)\n",
      "         ^\n",
      "input_line_18:2:15: error: expected expression\n",
      " (* Q6. (/2) *)\n",
      "              ^\n",
      "input_line_18:14:4: error: use of undeclared identifier 'res'\n",
      "  !res;;\n",
      "   ^\n",
      "input_line_18:15:1: error: unknown type name 'let'\n",
      "let t = \"concours\";;\n",
      "^\n",
      "input_line_18:16:1: error: unknown type name 'comparerRotations'\n",
      "comparerRotations t 0 3\n",
      "^\n",
      "input_line_18:16:20: error: expected ';' at end of declaration\n",
      "comparerRotations t 0 3\n",
      "                   ^\n",
      "                   ;\n"
     ]
    },
    {
     "ename": "Interpreter Error",
     "evalue": "",
     "output_type": "error",
     "traceback": [
      "Interpreter Error: "
     ]
    }
   ],
   "source": [
    "(* Q6. (/2) *)\n",
    "let comparerRotations t i j =\n",
    "  let n = String.length t in\n",
    "  let res = ref 0 in\n",
    "  for k = 0 to n - 1 do\n",
    "    if !res = 0 then (\n",
    "      if t.[(i + k) mod n] > t.[(j + k) mod n]\n",
    "      then res := 1\n",
    "      else if t.[(i + k) mod n] < t.[(j + k) mod n]\n",
    "      then res := -1\n",
    "    )\n",
    "  done;\n",
    "  !res;;\n",
    "\n",
    "let t = \"concours\";;\n",
    "comparerRotations t 0 3"
   ]
  },
  {
   "cell_type": "code",
   "execution_count": 9,
   "metadata": {
    "execution": {
     "iopub.execute_input": "2022-05-09T09:04:29.727190Z",
     "iopub.status.busy": "2022-05-09T09:04:29.726772Z",
     "iopub.status.idle": "2022-05-09T09:04:29.777014Z",
     "shell.execute_reply": "2022-05-09T09:04:29.769960Z"
    },
    "vscode": {
     "languageId": "ocaml"
    }
   },
   "outputs": [
    {
     "name": "stderr",
     "output_type": "stream",
     "text": [
      "input_line_19:2:2: error: unknown type name 'let'\n",
      " let triRotations text = \n",
      " ^\n",
      "input_line_19:2:18: error: expected ';' at end of declaration\n",
      " let triRotations text = \n",
      "                 ^\n",
      "                 ;\n",
      "input_line_19:6:5: error: use of undeclared identifier 'rot'\n",
      "    rot;;\n",
      "    ^\n",
      "input_line_19:8:1: error: unknown type name 'let'\n",
      "let tri = triRotations t;;\n",
      "^\n"
     ]
    },
    {
     "ename": "Interpreter Error",
     "evalue": "",
     "output_type": "error",
     "traceback": [
      "Interpreter Error: "
     ]
    }
   ],
   "source": [
    "let triRotations text = \n",
    "    let n = String.length text in\n",
    "    let rot = Array.init n (fun i -> i) in\n",
    "    Array.sort (fun i j -> comparerRotations text j i) rot;\n",
    "    rot;;\n",
    "    \n",
    "let tri = triRotations t;;\n",
    "tri"
   ]
  },
  {
   "cell_type": "code",
   "execution_count": 10,
   "metadata": {
    "execution": {
     "iopub.execute_input": "2022-05-09T09:04:29.778474Z",
     "iopub.status.busy": "2022-05-09T09:04:29.778063Z",
     "iopub.status.idle": "2022-05-09T09:04:29.878619Z",
     "shell.execute_reply": "2022-05-09T09:04:29.836719Z"
    },
    "vscode": {
     "languageId": "ocaml"
    }
   },
   "outputs": [
    {
     "name": "stderr",
     "output_type": "stream",
     "text": [
      "input_line_20:2:9: error: expected unqualified-id\n",
      " (* Q7. (/2) *)\n",
      "        ^\n",
      "input_line_20:2:5: error: use of undeclared identifier 'Q7'\n",
      " (* Q7. (/2) *)\n",
      "    ^\n",
      "input_line_20:2:10: error: expected expression\n",
      " (* Q7. (/2) *)\n",
      "         ^\n",
      "input_line_20:2:15: error: expected expression\n",
      " (* Q7. (/2) *)\n",
      "              ^\n",
      "input_line_20:10:12: error: expected '(' after 'if'\n",
      "        if ans.(i) = text.[0] && !key = -1\n",
      "           ^\n",
      "input_line_20:13:5: error: use of undeclared identifier 'ans'; did you mean 'abs'?\n",
      "    ans, !key;;\n",
      "    ^~~\n",
      "    abs\n",
      "/opt/conda/x86_64-conda-linux-gnu/sysroot/usr/include/stdlib.h:785:12: note: 'abs' declared here\n",
      "extern int abs (int __x) __THROW __attribute__ ((__const__)) __wur;\n",
      "           ^\n",
      "input_line_20:13:11: error: use of undeclared identifier 'key'\n",
      "    ans, !key;;\n",
      "          ^\n",
      "input_line_20:14:1: error: unknown type name 'let'\n",
      "let code, _ = codageBW t;;\n",
      "^\n",
      "input_line_20:14:12: error: expected ';' at end of declaration\n",
      "let code, _ = codageBW t;;\n",
      "           ^\n",
      "           ;\n"
     ]
    },
    {
     "ename": "Interpreter Error",
     "evalue": "",
     "output_type": "error",
     "traceback": [
      "Interpreter Error: "
     ]
    }
   ],
   "source": [
    "(* Q7. (/2) *)\n",
    "let codageBW text = (* O(nlog(n)) *)\n",
    "    let n = String.length text in\n",
    "    let tri = triRotations t in (* O(nlog(n)) *)\n",
    "    let ans = Array.make n 'a' in (* O(n) *)\n",
    "    let key = ref (-1) in\n",
    "    for i = 0 to n - 1 do (* O(n) *)\n",
    "        ans.(i) <- text.[(n - 1 + tri.(i)) mod n];\n",
    "        if ans.(i) = text.[0] && !key = -1\n",
    "        then key := i\n",
    "    done;\n",
    "    ans, !key;;\n",
    "\n",
    "let code, _ = codageBW t;;"
   ]
  },
  {
   "cell_type": "markdown",
   "metadata": {},
   "source": [
    "## Partie III. Transformation de Burrows-Wheeler inverse"
   ]
  },
  {
   "cell_type": "code",
   "execution_count": 11,
   "metadata": {
    "execution": {
     "iopub.execute_input": "2022-05-09T09:04:29.880624Z",
     "iopub.status.busy": "2022-05-09T09:04:29.879884Z",
     "iopub.status.idle": "2022-05-09T09:04:29.948004Z",
     "shell.execute_reply": "2022-05-09T09:04:29.940991Z"
    },
    "vscode": {
     "languageId": "ocaml"
    }
   },
   "outputs": [
    {
     "name": "stderr",
     "output_type": "stream",
     "text": [
      "input_line_21:2:9: error: expected expression\n",
      " (* Q9 (/2) *)\n",
      "        ^\n",
      "input_line_21:2:14: error: expected expression\n",
      " (* Q9 (/2) *)\n",
      "             ^\n",
      "input_line_21:11:13: error: unknown type name 'incr'\n",
      "            incr k\n",
      "            ^\n",
      "input_line_21:11:19: error: expected ';' at end of declaration\n",
      "            incr k\n",
      "                  ^\n",
      "                  ;\n",
      "input_line_21:13:5: error: use of undeclared identifier 'done'\n",
      "    done;\n",
      "    ^\n",
      "input_line_21:14:5: error: use of undeclared identifier 'triCars'\n",
      "    triCars;;\n",
      "    ^\n",
      "input_line_21:16:1: error: unknown type name 'triCarsDe'\n",
      "triCarsDe code\n",
      "^\n"
     ]
    },
    {
     "ename": "Interpreter Error",
     "evalue": "",
     "output_type": "error",
     "traceback": [
      "Interpreter Error: "
     ]
    }
   ],
   "source": [
    "(* Q9 (/2) *)\n",
    "let triCarsDe tprime =\n",
    "    let n = Array.length tprime in\n",
    "    let triCars = Array.make n 'a' in\n",
    "    let occ = occurrences tprime  in\n",
    "    let k = ref 0 in\n",
    "    for i = 0 to Array.length occ - 1 do\n",
    "        for j = 0 to occ.(i) - 1 do\n",
    "            triCars.(!k) <- Char.chr i;\n",
    "            incr k\n",
    "        done;\n",
    "    done;\n",
    "    triCars;;\n",
    "    \n",
    "triCarsDe code"
   ]
  }
 ],
 "metadata": {
  "interpreter": {
   "hash": "638d2bb0c3d5a654c8dabbf1e544957f030902e91031027a7993b713e9c17aba"
  },
  "kernelspec": {
   "display_name": "C++17",
   "language": "C++17",
   "name": "xcpp17"
  },
  "language_info": {
   "codemirror_mode": "text/x-c++src",
   "file_extension": ".cpp",
   "mimetype": "text/x-c++src",
   "name": "c++",
   "version": "17"
  }
 },
 "nbformat": 4,
 "nbformat_minor": 4
}
