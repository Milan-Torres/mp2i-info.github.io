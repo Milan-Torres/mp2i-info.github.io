{
 "cells": [
  {
   "cell_type": "markdown",
   "metadata": {},
   "source": [
    "# <center><a href='https://notebook.basthon.fr/sql/?from=https://raw.githubusercontent.com/mp2i-fsm/mp2i-2021/main/10_sql/pokemon/pokemon.ipynb&module=https://raw.githubusercontent.com/mp2i-fsm/mp2i-2021/main/10_sql/pokemon/pokemon.sql'>Exemple SQL : Pokémon <img src=https://framagit.org/uploads/-/system/project/avatar/55763/basthon_shadow.png width=100></a></center>\n",
    "\n",
    "Les données ont été obtenues sur [https://github.com/bthouverez/Pokemon-BDD](https://github.com/bthouverez/Pokemon-BDD)\n",
    "\n",
    "[**Diagramme de la base de donnée**](https://dbdiagram.io/d/62853fe17f945876b6459548)"
   ]
  }
 ],
 "metadata": {
  "kernelspec": {
   "display_name": "SQL",
   "language": "sql",
   "name": "sql"
  }
 },
 "nbformat": 4,
 "nbformat_minor": 2
}
